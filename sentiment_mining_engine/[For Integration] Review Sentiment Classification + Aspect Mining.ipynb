{
 "cells": [
  {
   "cell_type": "markdown",
   "metadata": {},
   "source": [
    "Instructions\n",
    "1. Pre-Trained Spacy Model is loaded\n",
    "2. Aspect mining based on 3 categories\n",
    "3. Sentiment Classification for Review\n",
    "4. Integration: function to use: evaluate_review, need to doc = nlp(review) first. For some strange reason, cannot put into the evaluate_review function "
   ]
  },
  {
   "cell_type": "code",
   "execution_count": 1,
   "metadata": {},
   "outputs": [],
   "source": [
    "import spacy\n",
    "import pandas as pd\n",
    "import numpy as np"
   ]
  },
  {
   "cell_type": "code",
   "execution_count": 2,
   "metadata": {},
   "outputs": [],
   "source": [
    "#Load Pre-Trained SPacy model\n",
    "output_dir = \"Output\\my_nlp_sm\"\n",
    "my_nlp = spacy.load(output_dir)"
   ]
  },
  {
   "cell_type": "code",
   "execution_count": 3,
   "metadata": {},
   "outputs": [],
   "source": [
    "nlp = spacy.load('en')"
   ]
  },
  {
   "cell_type": "code",
   "execution_count": 4,
   "metadata": {},
   "outputs": [],
   "source": [
    "# entity & aspect categories\n",
    "aspect = {\"book\": [\"book\"],\n",
    "        \"author\" : [\"author\", \"writer\" ],\n",
    "        \"characters\" : [\"character\",\"characters\"]   }\n",
    "\n",
    "def aspectCat(sentence):\n",
    "    category=[]\n",
    "    for tok in sentence:\n",
    "        tok = tok.text.lower()\n",
    "        for key, val in aspect.items():\n",
    "            if tok in val: category.append(key)\n",
    "    if len(category) == 0 : category.append(\"overall\")\n",
    "    return category"
   ]
  },
  {
   "cell_type": "code",
   "execution_count": 5,
   "metadata": {},
   "outputs": [],
   "source": [
    "sent_map = {\"positive\":1, \"neutral\":0, \"negative\":-1}\n",
    "def getSentiment(span):\n",
    "    res = my_nlp(span.text)\n",
    "    \n",
    "    # map score from positive -> +1; negative -> -1; neutral -> 0\n",
    "    senti = np.round(sum([sent_map[items[0]]*items[1] for items in res.cats.items()]),2)\n",
    "    \n",
    "    #print(res, senti)\n",
    "    #print(\"-------------\")\n",
    "    return (res,senti)"
   ]
  },
  {
   "cell_type": "code",
   "execution_count": 6,
   "metadata": {},
   "outputs": [],
   "source": [
    "def evaluate_review(review):\n",
    "    cat_list=[]\n",
    "    for idx, sentence in enumerate(review.sents):\n",
    "            try:\n",
    "                cat = aspectCat(sentence)      \n",
    "                cat_list.append(cat)\n",
    "            except IndexError:\n",
    "                cat_list.append(overall)\n",
    "    flat_cat_list = [item for sublist in cat_list for item in sublist]\n",
    "    sentence, predicted_sentiment = getSentiment(review)\n",
    "    categorized_sentiment  = 'netural'\n",
    "    if predicted_sentiment>0:\n",
    "        categorized_sentiment  = 'positive'\n",
    "    elif predicted_sentiment<0:\n",
    "        categorized_sentiment  = 'negative'\n",
    "    return sentence,predicted_sentiment,categorized_sentiment,flat_cat_list"
   ]
  },
  {
   "cell_type": "code",
   "execution_count": 7,
   "metadata": {},
   "outputs": [],
   "source": [
    "positive_review_all = 'It think the book is fantastic and well written, the author has really done a good job. I love the characters as well.'\n",
    "positive_review_author = \"The author is great\"\n",
    "positive_review_characters = \"The characters are wonderful\"\n",
    "positive_review_book = \"This book is a delightful\""
   ]
  },
  {
   "cell_type": "markdown",
   "metadata": {},
   "source": [
    "# Sample Output"
   ]
  },
  {
   "cell_type": "markdown",
   "metadata": {},
   "source": [
    "## Positive"
   ]
  },
  {
   "cell_type": "code",
   "execution_count": 8,
   "metadata": {},
   "outputs": [
    {
     "data": {
      "text/plain": [
       "(It think the book is fantastic and well written, the author has really done a good job. I love the characters as well.,\n",
       " 1.0,\n",
       " 'positive',\n",
       " ['book', 'author', 'characters'])"
      ]
     },
     "execution_count": 8,
     "metadata": {},
     "output_type": "execute_result"
    }
   ],
   "source": [
    "doc = nlp(positive_review_all)\n",
    "evaluate_review(doc)"
   ]
  },
  {
   "cell_type": "code",
   "execution_count": 9,
   "metadata": {},
   "outputs": [
    {
     "data": {
      "text/plain": [
       "(The author is great, 1.0, 'positive', ['author'])"
      ]
     },
     "execution_count": 9,
     "metadata": {},
     "output_type": "execute_result"
    }
   ],
   "source": [
    "doc = nlp(positive_review_author)\n",
    "evaluate_review(doc)"
   ]
  },
  {
   "cell_type": "code",
   "execution_count": 10,
   "metadata": {},
   "outputs": [
    {
     "data": {
      "text/plain": [
       "(The characters are wonderful, 1.0, 'positive', ['characters'])"
      ]
     },
     "execution_count": 10,
     "metadata": {},
     "output_type": "execute_result"
    }
   ],
   "source": [
    "doc = nlp(positive_review_characters)\n",
    "evaluate_review(doc)"
   ]
  },
  {
   "cell_type": "code",
   "execution_count": 11,
   "metadata": {},
   "outputs": [
    {
     "data": {
      "text/plain": [
       "(This book is a delightful, 1.0, 'positive', ['book'])"
      ]
     },
     "execution_count": 11,
     "metadata": {},
     "output_type": "execute_result"
    }
   ],
   "source": [
    "doc = nlp(positive_review_book)\n",
    "evaluate_review(doc)"
   ]
  },
  {
   "cell_type": "markdown",
   "metadata": {},
   "source": [
    "## Negative"
   ]
  },
  {
   "cell_type": "code",
   "execution_count": 12,
   "metadata": {},
   "outputs": [],
   "source": [
    "negative_review_all = 'It think the book is terrible, the author has been very lazy. The characters are boring.'\n",
    "negative_review_author = \"The author has failed\"\n",
    "negative_review_characters = \"The characters are bland and boring\"\n",
    "negative_review_book = \"I think the book is boring and poorly written\""
   ]
  },
  {
   "cell_type": "code",
   "execution_count": 13,
   "metadata": {},
   "outputs": [
    {
     "data": {
      "text/plain": [
       "(It think the book is terrible, the author has been very lazy. The characters are boring.,\n",
       " -1.0,\n",
       " 'negative',\n",
       " ['book', 'author', 'characters'])"
      ]
     },
     "execution_count": 13,
     "metadata": {},
     "output_type": "execute_result"
    }
   ],
   "source": [
    "doc = nlp(negative_review_all)\n",
    "evaluate_review(doc)"
   ]
  },
  {
   "cell_type": "code",
   "execution_count": 14,
   "metadata": {},
   "outputs": [
    {
     "data": {
      "text/plain": [
       "(The author has failed, -0.07, 'negative', ['author'])"
      ]
     },
     "execution_count": 14,
     "metadata": {},
     "output_type": "execute_result"
    }
   ],
   "source": [
    "doc = nlp(negative_review_author)\n",
    "evaluate_review(doc)"
   ]
  },
  {
   "cell_type": "code",
   "execution_count": 15,
   "metadata": {},
   "outputs": [
    {
     "data": {
      "text/plain": [
       "(The characters are bland and boring, -1.0, 'negative', ['characters'])"
      ]
     },
     "execution_count": 15,
     "metadata": {},
     "output_type": "execute_result"
    }
   ],
   "source": [
    "doc = nlp(negative_review_characters)\n",
    "evaluate_review(doc)"
   ]
  },
  {
   "cell_type": "code",
   "execution_count": 16,
   "metadata": {},
   "outputs": [
    {
     "data": {
      "text/plain": [
       "(I think the book is boring and poorly written, -1.0, 'negative', ['book'])"
      ]
     },
     "execution_count": 16,
     "metadata": {},
     "output_type": "execute_result"
    }
   ],
   "source": [
    "doc = nlp(negative_review_book)\n",
    "evaluate_review(doc)"
   ]
  },
  {
   "cell_type": "markdown",
   "metadata": {},
   "source": [
    "## Without Aspect Mining"
   ]
  },
  {
   "cell_type": "code",
   "execution_count": 17,
   "metadata": {},
   "outputs": [
    {
     "name": "stdout",
     "output_type": "stream",
     "text": [
      "It think the book is fantastic and well written, the author has really done a good job. I love the characters as well. {'positive': 0.9999473094940186, 'negative': 4.939167047268711e-05, 'neutral': 3.3461965358583257e-06}\n"
     ]
    }
   ],
   "source": [
    "doc2 = my_nlp(positive_review_all)\n",
    "print(positive_review_all, doc2.cats)"
   ]
  },
  {
   "cell_type": "code",
   "execution_count": 18,
   "metadata": {},
   "outputs": [
    {
     "name": "stdout",
     "output_type": "stream",
     "text": [
      "It think the book is terrible, the author has been very lazy. The characters are boring. {'positive': 1.91778531188902e-06, 'negative': 0.9998908042907715, 'neutral': 0.00010730105714173988}\n"
     ]
    }
   ],
   "source": [
    "doc2 = my_nlp(negative_review_all)\n",
    "print(negative_review_all, doc2.cats)"
   ]
  }
 ],
 "metadata": {
  "kernelspec": {
   "display_name": "Python 3",
   "language": "python",
   "name": "python3"
  },
  "language_info": {
   "codemirror_mode": {
    "name": "ipython",
    "version": 3
   },
   "file_extension": ".py",
   "mimetype": "text/x-python",
   "name": "python",
   "nbconvert_exporter": "python",
   "pygments_lexer": "ipython3",
   "version": "3.8.3"
  }
 },
 "nbformat": 4,
 "nbformat_minor": 4
}
