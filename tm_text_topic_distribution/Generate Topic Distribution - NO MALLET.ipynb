{
 "cells": [
  {
   "cell_type": "code",
   "execution_count": 1,
   "metadata": {},
   "outputs": [],
   "source": [
    "import pandas as pd\n",
    "import re\n",
    "import pandas as pd\n",
    "from collections import defaultdict\n",
    "import operator\n",
    "from pprint import pprint\n",
    "\n",
    "# Gensim\n",
    "import gensim\n",
    "import gensim.corpora as corpora\n",
    "from gensim.utils import simple_preprocess\n",
    "from gensim.models import CoherenceModel\n",
    "from gensim import models\n",
    "from gensim.models import LdaModel\n",
    "\n",
    "from nltk.tokenize import word_tokenize \n",
    "from gensim.test.utils import common_texts\n",
    "from gensim.corpora.dictionary import Dictionary\n",
    "\n",
    "# spacy for lemmatization\n",
    "import spacy\n",
    "import pickle"
   ]
  },
  {
   "cell_type": "code",
   "execution_count": 11,
   "metadata": {},
   "outputs": [],
   "source": [
    "dictionary = pickle.load(open(\"./dictionary.pkl\", \"rb\"))"
   ]
  },
  {
   "cell_type": "code",
   "execution_count": 12,
   "metadata": {},
   "outputs": [],
   "source": [
    "lda_model = pickle.load(open(\"./lda_no_mallet/lda_6topics.pkl\", \"rb\"))"
   ]
  },
  {
   "cell_type": "code",
   "execution_count": 13,
   "metadata": {},
   "outputs": [],
   "source": [
    "# Load a potentially pretrained model from disk."
   ]
  },
  {
   "cell_type": "code",
   "execution_count": 19,
   "metadata": {},
   "outputs": [],
   "source": [
    "def get_topic_distribution(unseen_text):\n",
    "    tokens= word_tokenize(unseen_text)\n",
    "    print(tokens)\n",
    "    return lda_model[dictionary.doc2bow(tokens)][0] # get topic probability distribution for a documen"
   ]
  },
  {
   "cell_type": "code",
   "execution_count": 20,
   "metadata": {},
   "outputs": [
    {
     "name": "stdout",
     "output_type": "stream",
     "text": [
      "['To', 'determine', 'this', ',', 'we', 'looked', 'at', 'the', '2', 'sentiment', 'libraries', 'which', 'we', 'used', ',', 'TextBlob', 'and', 'VADER', '.', 'As', 'expected', ',', 'we', 'observed', 'that', 'there', 'is', 'a', 'relationship', 'between', 'both', 'metrics', 'and', 'the', 'rating', 'scores', '.', 'The', 'more', 'positive', 'the', 'detected', 'sentiment', '(', 'higher', 'the', 'mean', 'textblob', 'or', 'mean', 'VADER', 'compound', 'score', ',', 'the', 'higher', 'the', 'rating', '.', 'This', 'means', 'that', 'sentiment', 'polarity', 'could', 'be', 'a', 'good', 'predictor', 'for', 'user', 'rating', 'score', '.']\n"
     ]
    },
    {
     "data": {
      "text/plain": [
       "[(0, 0.1178449),\n",
       " (1, 0.2408408),\n",
       " (2, 0.104409024),\n",
       " (3, 0.07561728),\n",
       " (4, 0.14689532),\n",
       " (5, 0.3143927)]"
      ]
     },
     "execution_count": 20,
     "metadata": {},
     "output_type": "execute_result"
    }
   ],
   "source": [
    "get_topic_distribution('To determine this, we looked at the 2 sentiment libraries which we used, TextBlob and VADER. As expected, we observed that there is a relationship between both metrics and the rating scores. The more positive the detected sentiment (higher the mean textblob or mean VADER compound score, the higher the rating. This means that sentiment polarity could be a good predictor for user rating score.')"
   ]
  },
  {
   "cell_type": "code",
   "execution_count": 21,
   "metadata": {},
   "outputs": [
    {
     "name": "stdout",
     "output_type": "stream",
     "text": [
      "['Fresh', 'from', 'her', 'triumphs', 'in', 'Paris', 'society', ',', 'Whitney', 'Stone', 'returns', 'to', 'England', 'determined', 'to', 'win', 'the', 'heart', 'of', 'her', 'childhood', 'love', '.', 'However', ',', 'in', 'order', 'to', 'save', 'himself', 'from', 'ruin', ',', 'her', 'father', 'has', 'come', 'to', 'an', 'arrangement', 'with', 'the', 'arrogant', 'Duke', 'of', 'Claymore', ',', 'and', 'Whitney', 'is', 'the', 'price']\n"
     ]
    },
    {
     "data": {
      "text/plain": [
       "[(0, 0.08954972),\n",
       " (1, 0.5595171),\n",
       " (2, 0.04759565),\n",
       " (3, 0.103426434),\n",
       " (4, 0.089797005),\n",
       " (5, 0.110114135)]"
      ]
     },
     "execution_count": 21,
     "metadata": {},
     "output_type": "execute_result"
    }
   ],
   "source": [
    "get_topic_distribution('Fresh from her triumphs in Paris society, Whitney Stone returns to England determined to win the heart of her childhood love. However, in order to save himself from ruin, her father has come to an arrangement with the arrogant Duke of Claymore, and Whitney is the price')"
   ]
  },
  {
   "cell_type": "code",
   "execution_count": 22,
   "metadata": {},
   "outputs": [
    {
     "name": "stdout",
     "output_type": "stream",
     "text": [
      "['Carefully', 'avoiding', 'meeting', 'anyone', \"'s\", 'eyes', ',', 'lest', 'she', 'break', 'down', 'then', 'and', 'there', ',', 'Whitney', 'slid', 'into', 'her', 'chair', 'at', 'the', 'table', '.', 'Have', 'you', 'informed', 'my', 'aunt', 'and', 'uncle', 'of', 'the', 'risk', 'they', 'are', 'taking', '?', 'she', 'asked', ',', 'concentrating', 'all', 'her', 'strength', 'on', 'preventing', 'her', 'father', 'from', 'seeing', 'what', 'he', 'had', 'just', 'done', 'to', 'her', 'heart', '.', 'She', 'looked', 'coldly', 'at', 'her', 'aunt', 'and', 'uncle', \"'s\", 'guilty', ',', 'embarrassed', 'faces', '.', 'Father', 'may', 'have', 'neglected', 'to', 'mention', 'you', \"'re\", 'risking', 'disgrace', 'by', 'welcoming', 'me', 'into', 'your', 'home', '.', 'As', 'he', 'will', 'tell', 'you', ',', 'I', 'a', 'trace', 'of', 'polite', 'conversation', '.']\n"
     ]
    },
    {
     "data": {
      "text/plain": [
       "[(0, 0.19862142),\n",
       " (1, 0.48978335),\n",
       " (2, 0.06592154),\n",
       " (3, 0.04459229),\n",
       " (4, 0.14210185),\n",
       " (5, 0.058979526)]"
      ]
     },
     "execution_count": 22,
     "metadata": {},
     "output_type": "execute_result"
    }
   ],
   "source": [
    "get_topic_distribution(\"Carefully avoiding meeting anyone's eyes, lest she break down then and there, Whitney slid into her chair at the table. Have you informed my aunt and uncle of the risk they are taking? she asked, concentrating all her strength on preventing her father from seeing what he had just done to her heart. She looked coldly at her aunt and uncle's guilty, embarrassed faces. Father may have neglected to mention you're risking disgrace by welcoming me into your home. As he will tell you, I a trace of polite conversation.\")"
   ]
  },
  {
   "cell_type": "code",
   "execution_count": null,
   "metadata": {},
   "outputs": [],
   "source": []
  }
 ],
 "metadata": {
  "kernelspec": {
   "display_name": "Python 3",
   "language": "python",
   "name": "python3"
  },
  "language_info": {
   "codemirror_mode": {
    "name": "ipython",
    "version": 3
   },
   "file_extension": ".py",
   "mimetype": "text/x-python",
   "name": "python",
   "nbconvert_exporter": "python",
   "pygments_lexer": "ipython3",
   "version": "3.7.0"
  }
 },
 "nbformat": 4,
 "nbformat_minor": 4
}
