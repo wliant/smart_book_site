{
 "cells": [
  {
   "cell_type": "code",
   "execution_count": 1,
   "metadata": {},
   "outputs": [],
   "source": [
    "import pandas as pd\n",
    "import re\n",
    "import pandas as pd\n",
    "from collections import defaultdict\n",
    "import operator\n",
    "from pprint import pprint\n",
    "\n",
    "# Gensim\n",
    "import gensim\n",
    "import gensim.corpora as corpora\n",
    "from gensim.utils import simple_preprocess\n",
    "from gensim.models import CoherenceModel\n",
    "from gensim import models\n",
    "from gensim.models import LdaModel\n",
    "\n",
    "from nltk.tokenize import word_tokenize \n",
    "\n",
    "\n",
    "# spacy for lemmatization\n",
    "import spacy"
   ]
  },
  {
   "cell_type": "code",
   "execution_count": 2,
   "metadata": {},
   "outputs": [],
   "source": [
    "from gensim.test.utils import common_texts\n",
    "from gensim.corpora.dictionary import Dictionary\n",
    "common_dictionary = Dictionary(common_texts)"
   ]
  },
  {
   "cell_type": "code",
   "execution_count": 3,
   "metadata": {},
   "outputs": [],
   "source": [
    "import os\n",
    "from gensim.models.wrappers import LdaMallet\n",
    "os.environ.update({'MALLET_HOME':r'C:/new_mallet/mallet-2.0.8/'})\n",
    "mallet_path = 'C:/new_mallet/mallet-2.0.8/bin/mallet.bat' # update this path"
   ]
  },
  {
   "cell_type": "code",
   "execution_count": 4,
   "metadata": {},
   "outputs": [],
   "source": [
    "# Load a potentially pretrained model from disk.\n"
   ]
  },
  {
   "cell_type": "code",
   "execution_count": 5,
   "metadata": {},
   "outputs": [],
   "source": [
    "def get_topic_distribution(unseen_text):\n",
    "    lda = LdaModel.load(\"./lda_model_6/model\")\n",
    "    tokens= word_tokenize(unseen_text)\n",
    "    corpus = [common_dictionary.doc2bow(tokens)]\n",
    "    print(corpus)\n",
    "    vector = lda[corpus]  # get topic probability distribution for a documen\n",
    "    return vector"
   ]
  },
  {
   "cell_type": "code",
   "execution_count": 6,
   "metadata": {},
   "outputs": [
    {
     "name": "stderr",
     "output_type": "stream",
     "text": [
      "WARNING:root:random_state not set so using default value\n",
      "WARNING:root:failed to load state from ./lda_model_6/model.state: [Errno 2] No such file or directory: './lda_model_6/model.state'\n"
     ]
    },
    {
     "name": "stdout",
     "output_type": "stream",
     "text": [
      "[[(7, 1)]]\n"
     ]
    },
    {
     "data": {
      "text/plain": [
       "[[(0, 0.18300653594771243),\n",
       "  (1, 0.16339869281045752),\n",
       "  (2, 0.16339869281045752),\n",
       "  (3, 0.16339869281045752),\n",
       "  (4, 0.16339869281045752),\n",
       "  (5, 0.16339869281045752)]]"
      ]
     },
     "execution_count": 6,
     "metadata": {},
     "output_type": "execute_result"
    }
   ],
   "source": [
    "get_topic_distribution('To determine this, we looked at the 2 sentiment libraries which we used, TextBlob and VADER. As expected, we observed that there is a relationship between both metrics and the rating scores. The more positive the detected sentiment (higher the mean textblob or mean VADER compound score, the higher the rating. This means that sentiment polarity could be a good predictor for user rating score.')"
   ]
  },
  {
   "cell_type": "code",
   "execution_count": 7,
   "metadata": {},
   "outputs": [
    {
     "name": "stderr",
     "output_type": "stream",
     "text": [
      "WARNING:root:random_state not set so using default value\n",
      "WARNING:root:failed to load state from ./lda_model_6/model.state: [Errno 2] No such file or directory: './lda_model_6/model.state'\n"
     ]
    },
    {
     "name": "stdout",
     "output_type": "stream",
     "text": [
      "[[]]\n"
     ]
    },
    {
     "data": {
      "text/plain": [
       "[[(0, 0.16666666666666669),\n",
       "  (1, 0.16666666666666669),\n",
       "  (2, 0.16666666666666669),\n",
       "  (3, 0.16666666666666669),\n",
       "  (4, 0.16666666666666669),\n",
       "  (5, 0.16666666666666669)]]"
      ]
     },
     "execution_count": 7,
     "metadata": {},
     "output_type": "execute_result"
    }
   ],
   "source": [
    "get_topic_distribution('Fresh from her triumphs in Paris society, Whitney Stone returns to England determined to win the heart of her childhood love. However, in order to save himself from ruin, her father has come to an arrangement with the arrogant Duke of Claymore, and Whitney is the price')"
   ]
  },
  {
   "cell_type": "code",
   "execution_count": 8,
   "metadata": {},
   "outputs": [
    {
     "name": "stderr",
     "output_type": "stream",
     "text": [
      "WARNING:root:random_state not set so using default value\n",
      "WARNING:root:failed to load state from ./lda_model_6/model.state: [Errno 2] No such file or directory: './lda_model_6/model.state'\n"
     ]
    },
    {
     "name": "stdout",
     "output_type": "stream",
     "text": [
      "[[]]\n"
     ]
    },
    {
     "data": {
      "text/plain": [
       "[[(0, 0.16666666666666669),\n",
       "  (1, 0.16666666666666669),\n",
       "  (2, 0.16666666666666669),\n",
       "  (3, 0.16666666666666669),\n",
       "  (4, 0.16666666666666669),\n",
       "  (5, 0.16666666666666669)]]"
      ]
     },
     "execution_count": 8,
     "metadata": {},
     "output_type": "execute_result"
    }
   ],
   "source": [
    "get_topic_distribution(\"Carefully avoiding meeting anyone's eyes, lest she break down then and there, Whitney slid into her chair at the table. Have you informed my aunt and uncle of the risk they are taking? she asked, concentrating all her strength on preventing her father from seeing what he had just done to her heart. She looked coldly at her aunt and uncle's guilty, embarrassed faces. Father may have neglected to mention you're risking disgrace by welcoming me into your home. As he will tell you, I a trace of polite conversation.\")"
   ]
  },
  {
   "cell_type": "code",
   "execution_count": null,
   "metadata": {},
   "outputs": [],
   "source": []
  }
 ],
 "metadata": {
  "kernelspec": {
   "display_name": "Python 3",
   "language": "python",
   "name": "python3"
  },
  "language_info": {
   "codemirror_mode": {
    "name": "ipython",
    "version": 3
   },
   "file_extension": ".py",
   "mimetype": "text/x-python",
   "name": "python",
   "nbconvert_exporter": "python",
   "pygments_lexer": "ipython3",
   "version": "3.8.3"
  }
 },
 "nbformat": 4,
 "nbformat_minor": 4
}
